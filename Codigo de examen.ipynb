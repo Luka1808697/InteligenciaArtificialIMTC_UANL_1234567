{
  "nbformat": 4,
  "nbformat_minor": 0,
  "metadata": {
    "colab": {
      "name": "Untitled0.ipynb",
      "provenance": []
    },
    "kernelspec": {
      "name": "python3",
      "display_name": "Python 3"
    },
    "language_info": {
      "name": "python"
    }
  },
  "cells": [
    {
      "cell_type": "code",
      "metadata": {
        "colab": {
          "base_uri": "https://localhost:8080/"
        },
        "id": "W87cFJ4zlJiR",
        "outputId": "73ca8616-05dd-4305-d864-6b1e394518b8"
      },
      "source": [
        "x=int(input(\"Dame un numero: \"))\n",
        "if x<=0:\n",
        "  print(\"Necesito uno que no sea cero\")\n",
        "else:\n",
        "  N=(x*(x+1))/2\n",
        "print(N)\n"
      ],
      "execution_count": 1,
      "outputs": [
        {
          "output_type": "stream",
          "text": [
            "Dame un numero: 76\n",
            "2926.0\n"
          ],
          "name": "stdout"
        }
      ]
    }
  ]
}