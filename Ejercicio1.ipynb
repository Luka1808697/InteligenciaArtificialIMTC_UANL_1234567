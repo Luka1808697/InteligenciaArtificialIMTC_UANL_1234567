{
  "nbformat": 4,
  "nbformat_minor": 0,
  "metadata": {
    "colab": {
      "name": "Ejercicio1.ipynb",
      "provenance": []
    },
    "kernelspec": {
      "name": "python3",
      "display_name": "Python 3"
    },
    "language_info": {
      "name": "python"
    }
  },
  "cells": [
    {
      "cell_type": "markdown",
      "metadata": {
        "id": "fS3_mqRO-ozz"
      },
      "source": [
        "En este ejercicio se pondra en practica los conceptos basicos de python antes de empezar a practicar modelos de machine learning\n",
        "\n"
      ]
    },
    {
      "cell_type": "markdown",
      "metadata": {
        "id": "DUaFdQobKmGf"
      },
      "source": [
        "Ejercicio 1 "
      ]
    },
    {
      "cell_type": "code",
      "metadata": {
        "colab": {
          "base_uri": "https://localhost:8080/"
        },
        "id": "0w80XQj7DPsD",
        "outputId": "87b55ee4-3822-40f7-b986-e27fe489e8fb"
      },
      "source": [
        "N=input(\"Hola pon tu nombre:\")\n",
        "print(N)\n",
        "E=int (input(\"Hola pon tu edad:\"))\n",
        "if E>55:\n",
        "  print(\"Ya eres mayor de 55 años\")\n",
        "else:\n",
        "  Ed=55-E\n",
        "Año=2021+Ed\n",
        "a = str(Año)\n",
        "print(\"Tendras 55 en \" +a)\n",
        "\n",
        "\n",
        "\n",
        "\n",
        "\n",
        "\n"
      ],
      "execution_count": 42,
      "outputs": [
        {
          "output_type": "stream",
          "text": [
            "Hola pon tu nombre:Luis\n",
            "Luis\n",
            "Hola pon tu edad:65\n",
            "Ya eres mayor de 55 años\n",
            "Tendras 55 en 2055\n"
          ],
          "name": "stdout"
        }
      ]
    },
    {
      "cell_type": "markdown",
      "metadata": {
        "id": "8oHqfPfDOTmI"
      },
      "source": [
        "Ejercicio 2\n",
        "\n",
        "```\n",
        "# Tiene formato de código\n",
        "```\n",
        "\n"
      ]
    },
    {
      "cell_type": "code",
      "metadata": {
        "colab": {
          "base_uri": "https://localhost:8080/"
        },
        "id": "h22GRX8nOSr0",
        "outputId": "ae344c65-7242-43ba-9843-5c7e590c8034"
      },
      "source": [
        "N=int (input(\"Dime un numero aleatorio \"))\n",
        "x= N%2\n",
        "if x==0:\n",
        "  print(\"El numero es par \")\n",
        "else:\n",
        "  print(\"El numero es impar\")\n",
        "\n",
        "\n",
        "\n"
      ],
      "execution_count": 54,
      "outputs": [
        {
          "output_type": "stream",
          "text": [
            "Dime un numero aleatorio 3\n",
            "El numero es impar\n"
          ],
          "name": "stdout"
        }
      ]
    }
  ]
}